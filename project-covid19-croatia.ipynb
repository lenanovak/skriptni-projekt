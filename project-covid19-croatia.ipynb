{
 "cells": [
  {
   "cell_type": "code",
   "execution_count": null,
   "id": "2007d159",
   "metadata": {},
   "outputs": [],
   "source": [
    "import numpy as np\n",
    "import json\n",
    "import geopandas as gpd\n",
    "import pandas as pd\n",
    "import matplotlib.pyplot as plt\n",
    "import imageio\n",
    "import mapclassify\n",
    "import os"
   ]
  },
  {
   "cell_type": "code",
   "execution_count": null,
   "id": "9184be68",
   "metadata": {},
   "outputs": [],
   "source": [
    "broj_pozitivnih = []\n",
    "PATH = 'results/'"
   ]
  },
  {
   "cell_type": "markdown",
   "id": "ac811518",
   "metadata": {},
   "source": [
    "### Pretvorba datuma\n",
    "\n",
    "Iz yyyy-mm-dd u dd.mm.yyyy."
   ]
  },
  {
   "cell_type": "code",
   "execution_count": null,
   "id": "66c28dad",
   "metadata": {},
   "outputs": [],
   "source": [
    "def custom_date(date):\n",
    "    return date[8:10]+'.'+date[5:7]+'.'+date[0:4]+'.'"
   ]
  },
  {
   "cell_type": "markdown",
   "id": "8bb52c46",
   "metadata": {},
   "source": [
    "### Promjena naziva županije\n",
    "\n",
    "Nazivi županija će po izvršenju ove funkcije biti identični onima iz JSON datoteke"
   ]
  },
  {
   "cell_type": "code",
   "execution_count": null,
   "id": "545dc89b",
   "metadata": {},
   "outputs": [],
   "source": [
    "def rename_geodata(croatia_data):\n",
    "    croatia_data.rename(columns = {'NAME_1' : 'Zupanija'}, inplace=True)\n",
    "    \n",
    "    croatia_data.replace('Bjelovarska-Bilogorska', 'Bjelovarsko-bilogorska', inplace=True)\n",
    "    croatia_data.replace('Brodsko-Posavska', 'Brodsko-posavska', inplace=True)\n",
    "    croatia_data.replace('Dubrovacko-Neretvanska', 'Dubrovačko-neretvanska', inplace=True)\n",
    "    croatia_data.replace('Karlovacka', 'Karlovačka', inplace=True)\n",
    "    croatia_data.replace('Koprivničko-Križevačka', 'Koprivničko-križevačka', inplace=True)\n",
    "    croatia_data.replace('Krapinsko-Zagorska', 'Krapinsko-zagorska', inplace=True)\n",
    "    croatia_data.replace('Licko-Senjska', 'Ličko-senjska', inplace=True)\n",
    "    croatia_data.replace('Medimurska', 'Međimurska', inplace=True)\n",
    "    croatia_data.replace('Osjecko-Baranjska', 'Osječko-baranjska', inplace=True)\n",
    "    croatia_data.replace('Požeško-Slavonska', 'Požeško-slavonska', inplace=True)\n",
    "    croatia_data.replace('Primorsko-Goranska', 'Primorsko-goranska', inplace=True)\n",
    "    croatia_data.replace('Sisacko-Moslavacka', 'Sisačko-moslavačka', inplace=True)\n",
    "    croatia_data.replace('Splitsko-Dalmatinska', 'Splitsko-dalmatinska', inplace=True)\n",
    "    croatia_data.replace('Viroviticko-Podravska', 'Virovitičko-podravska', inplace=True)\n",
    "    croatia_data.replace('Vukovarsko-Srijemska', 'Vukovarsko-srijemska', inplace=True)\n",
    "    croatia_data.replace('Šibensko-Kninska', 'Šibensko-kninska', inplace=True)\n",
    "    croatia_data.replace('Zagrebacka', 'Zagrebačka', inplace=True)"
   ]
  },
  {
   "cell_type": "markdown",
   "id": "cbee66fe",
   "metadata": {},
   "source": [
    "### Pretvordba u pandas DataFrame\n",
    "\n",
    "Iz liste (`df.loc[i][3]`) u DataFrame objekt"
   ]
  },
  {
   "cell_type": "code",
   "execution_count": null,
   "id": "ffd8c63e",
   "metadata": {},
   "outputs": [],
   "source": [
    "def convert_to_df(df):\n",
    "    df = pd.DataFrame(df, columns = ['Zupanija', 'broj_zarazenih', 'broj_umrlih', 'broj_aktivni', 'pozitivni'])\n",
    "    return df"
   ]
  },
  {
   "cell_type": "markdown",
   "id": "b26ed4d3",
   "metadata": {},
   "source": [
    "### Izračun pozitivnih slučajeva po datumu i županiji\n",
    "\n",
    "Broj pozitivnih slučajeva = podatak koji sadrži broj novozaraženih osoba tog dana\n",
    "\n",
    "`ignore_index` = resulting axis will be labeled 0, 1, ..., n-1\n",
    "\n",
    "`len(df.index)` = ukupan broj zapisa (570 dana - od datum do datum)\n",
    "\n",
    "`range(21)` = 20 županija + Grad Zagreb"
   ]
  },
  {
   "cell_type": "code",
   "execution_count": null,
   "id": "280a378b",
   "metadata": {},
   "outputs": [],
   "source": [
    "def prepare_covidPositive_data(df):\n",
    "    df = df.sort_values(by=['Datum'], ignore_index = True)\n",
    "    for i in range(len(df.index)): \n",
    "        for j in range(21): \n",
    "            if (i == 0): # first day exception\n",
    "                df.loc[i][3][j]['pozitivni'] = df.loc[i][3][j]['broj_zarazenih']\n",
    "            elif (df.loc[i][3][j]['broj_zarazenih'] > df.loc[i-1][3][j]['broj_zarazenih']):\n",
    "                df.loc[i][3][j]['pozitivni'] = df.loc[i][3][j]['broj_zarazenih'] - df.loc[i-1][3][j]['broj_zarazenih']\n",
    "            else:\n",
    "                df.loc[i][3][j]['pozitivni'] = 0\n",
    "            broj_pozitivnih.append(df.loc[i][3][j]['pozitivni'])\n",
    "            \n",
    "    return df"
   ]
  },
  {
   "cell_type": "code",
   "execution_count": null,
   "id": "54c90b8e",
   "metadata": {},
   "outputs": [],
   "source": [
    "def fix_legend_border(legend_border):\n",
    "    first_border = 1\n",
    "    for i in legend_border:\n",
    "        i.set_text(i.get_text().replace(' ', ''))\n",
    "        if (first_border): # secure first border in legend\n",
    "            i.set_text('0,10')\n",
    "            first_border = 0\n",
    "        i.set_text(i.get_text().replace(',', ' - '))"
   ]
  },
  {
   "cell_type": "markdown",
   "id": "ab8306b0",
   "metadata": {},
   "source": [
    "### Vizualizacija podataka\n",
    "\n",
    "Spajanje DataFrame i GeoDataFrame objekta nad atributom `Zupanija`\n",
    "\n",
    "Izrada choropleth mape sa paletom boja _YlOrBr_. \n",
    "\n",
    "Dodani intervali za legendu: `0-10`, `10-25`, `25-50`, `50-100`, `100-250`, `250-500`, `500-1000`, `1000-1250`, `1250-1500`\n",
    "\n",
    "Spremanje grafičke png datoteke"
   ]
  },
  {
   "cell_type": "code",
   "execution_count": null,
   "id": "79d927d3",
   "metadata": {},
   "outputs": [],
   "source": [
    "def visualize_covidPositive_data(df, date):\n",
    "    merged_data = croatia_data.merge(df, on = 'Zupanija')\n",
    "    font_title = {'fontname':'sans-serif', 'color':'black', 'size':12, 'weight':'light'}\n",
    "    fig, ax = plt.subplots(1, 1)\n",
    "    ax.axis('off')\n",
    "    merged_data.plot(cmap = 'YlOrBr', edgecolor = 'black', linewidth = 0.18, column = 'pozitivni', ax=ax, \n",
    "                     legend = True, scheme = 'user_defined', vmin = 0,\n",
    "                     classification_kwds = {'bins':[10, 25, 50, 100, 250, 500, 1000, 1250, 1500]},\n",
    "                     legend_kwds = {'loc': 'center left', 'bbox_to_anchor':(1,0.5), 'fmt': '{:.0f}'})\n",
    "    \n",
    "    fix_legend_border(ax.get_legend().texts)\n",
    "        \n",
    "    fig.colorbar  \n",
    "    plt.title(custom_date(date), fontdict = font_title, backgroundcolor = 'floralwhite')\n",
    "    plt.suptitle('Dnevni broj COVID-19 pozitivnih slučajeva' + '\\n po županijama u RH', fontsize=8, \n",
    "                 weight = 'light', backgroundcolor = 'floralwhite', x = 0.25, y = 0.2)\n",
    "    plt.savefig(PATH + date, dpi=70)\n",
    "    plt.close();"
   ]
  },
  {
   "cell_type": "markdown",
   "id": "b2377c67",
   "metadata": {},
   "source": [
    "### Učitavanje podataka i glavna for petlja"
   ]
  },
  {
   "cell_type": "code",
   "execution_count": null,
   "id": "c26fe7f2",
   "metadata": {
    "scrolled": false
   },
   "outputs": [],
   "source": [
    "croatia_data = gpd.read_file('shapefiles/croatia/HRV_adm1.shp')\n",
    "rename_geodata(croatia_data)\n",
    "\n",
    "f = pd.read_json('data/data_01_12_2021.json')\n",
    "df = prepare_covidPositive_data(pd.DataFrame(f))\n",
    "\n",
    "for i in range(len(df.index)):\n",
    "    for j in df.loc[i]:\n",
    "        per_day_data = convert_to_df(df.loc[i][3])\n",
    "        visualize_covidPositive_data(per_day_data, df.loc[i][2][:-5]) ## yyyy-mm-dd"
   ]
  },
  {
   "cell_type": "markdown",
   "id": "b578591e",
   "metadata": {},
   "source": [
    "### Izrada gif datoteke\n",
    "\n",
    "Spajanje svih png datoteka u jednu gif datoteku"
   ]
  },
  {
   "cell_type": "code",
   "execution_count": null,
   "id": "bc0b5912",
   "metadata": {},
   "outputs": [],
   "source": [
    "pathdir = './' + PATH\n",
    "images = []\n",
    "for filename in sorted(os.listdir(pathdir)):\n",
    "    if filename.endswith('.png'):\n",
    "        filepath = os.path.join(pathdir, filename)\n",
    "        images.append(imageio.imread(filepath))\n",
    "        images.append(imageio.imread(filepath))\n",
    "imageio.mimsave(pathdir + 'movie.gif', images)"
   ]
  }
 ],
 "metadata": {
  "kernelspec": {
   "display_name": "Python 3",
   "language": "python",
   "name": "python3"
  },
  "language_info": {
   "codemirror_mode": {
    "name": "ipython",
    "version": 3
   },
   "file_extension": ".py",
   "mimetype": "text/x-python",
   "name": "python",
   "nbconvert_exporter": "python",
   "pygments_lexer": "ipython3",
   "version": "3.8.10"
  }
 },
 "nbformat": 4,
 "nbformat_minor": 5
}
